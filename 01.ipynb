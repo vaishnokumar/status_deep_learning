{
  "nbformat": 4,
  "nbformat_minor": 0,
  "metadata": {
    "colab": {
      "provenance": [],
      "gpuType": "T4",
      "authorship_tag": "ABX9TyPZYiVV1cfoM7gyXdmyRQm6",
      "include_colab_link": true
    },
    "kernelspec": {
      "name": "python3",
      "display_name": "Python 3"
    },
    "language_info": {
      "name": "python"
    },
    "accelerator": "GPU"
  },
  "cells": [
    {
      "cell_type": "markdown",
      "metadata": {
        "id": "view-in-github",
        "colab_type": "text"
      },
      "source": [
        "<a href=\"https://colab.research.google.com/github/vaishnokumar/status_deep_learning/blob/main/01.ipynb\" target=\"_parent\"><img src=\"https://colab.research.google.com/assets/colab-badge.svg\" alt=\"Open In Colab\"/></a>"
      ]
    },
    {
      "cell_type": "code",
      "execution_count": 1,
      "metadata": {
        "colab": {
          "base_uri": "https://localhost:8080/",
          "height": 35
        },
        "id": "Du9-_LPiXkss",
        "outputId": "4c27363e-0bcd-43f9-d905-83a7c12da130"
      },
      "outputs": [
        {
          "output_type": "execute_result",
          "data": {
            "text/plain": [
              "'2.3.0+cu121'"
            ],
            "application/vnd.google.colaboratory.intrinsic+json": {
              "type": "string"
            }
          },
          "metadata": {},
          "execution_count": 1
        }
      ],
      "source": [
        "import torch\n",
        "from torch import nn # nn contains all of PyTorch's building blocks for neural networks\n",
        "import matplotlib.pyplot as plt\n",
        "\n",
        "# Check PyTorch version\n",
        "torch.__version__"
      ]
    },
    {
      "cell_type": "markdown",
      "source": [
        "### Data (Preparing & *Loading*)"
      ],
      "metadata": {
        "id": "K9HXcAlofv4y"
      }
    },
    {
      "cell_type": "markdown",
      "source": [
        "Create *known* parameters"
      ],
      "metadata": {
        "id": "SJ45dRrHhAUm"
      }
    },
    {
      "cell_type": "markdown",
      "source": [
        "Linear Regression -> y=mx+c , m =slope/gradient\n",
        "                              c= intercept"
      ],
      "metadata": {
        "id": "z-Dd7L-3h-9I"
      }
    },
    {
      "cell_type": "code",
      "source": [
        "# create known parameters\n",
        "weight = 0.7 # slope\n",
        "bias = 0.3 #intercept of y when x = 0\n",
        "\n",
        "start = 0\n",
        "end = 1\n",
        "step = 0.02\n",
        "X= torch.arange(start,end,step).unsqueeze(dim=1)\n",
        "y = weight * X + bias    # y=mx+c"
      ],
      "metadata": {
        "id": "fn26mZ1nfi1h"
      },
      "execution_count": 2,
      "outputs": []
    },
    {
      "cell_type": "code",
      "source": [
        "X[:10]"
      ],
      "metadata": {
        "colab": {
          "base_uri": "https://localhost:8080/"
        },
        "id": "qD6KsttUhaqW",
        "outputId": "2a4d2f6c-4438-42df-d09b-cb450d7b8532"
      },
      "execution_count": 3,
      "outputs": [
        {
          "output_type": "execute_result",
          "data": {
            "text/plain": [
              "tensor([[0.0000],\n",
              "        [0.0200],\n",
              "        [0.0400],\n",
              "        [0.0600],\n",
              "        [0.0800],\n",
              "        [0.1000],\n",
              "        [0.1200],\n",
              "        [0.1400],\n",
              "        [0.1600],\n",
              "        [0.1800]])"
            ]
          },
          "metadata": {},
          "execution_count": 3
        }
      ]
    },
    {
      "cell_type": "code",
      "source": [
        "y[:10]"
      ],
      "metadata": {
        "colab": {
          "base_uri": "https://localhost:8080/"
        },
        "id": "eHnQg3SpjCh0",
        "outputId": "600406d7-7dba-403e-ed12-94be75ca88e8"
      },
      "execution_count": 4,
      "outputs": [
        {
          "output_type": "execute_result",
          "data": {
            "text/plain": [
              "tensor([[0.3000],\n",
              "        [0.3140],\n",
              "        [0.3280],\n",
              "        [0.3420],\n",
              "        [0.3560],\n",
              "        [0.3700],\n",
              "        [0.3840],\n",
              "        [0.3980],\n",
              "        [0.4120],\n",
              "        [0.4260]])"
            ]
          },
          "metadata": {},
          "execution_count": 4
        }
      ]
    },
    {
      "cell_type": "code",
      "source": [
        "len(X), len(y)"
      ],
      "metadata": {
        "colab": {
          "base_uri": "https://localhost:8080/"
        },
        "id": "xqNVNQB8jtjZ",
        "outputId": "b49e1093-b1b6-42c0-d39d-9a4a04ebe845"
      },
      "execution_count": 5,
      "outputs": [
        {
          "output_type": "execute_result",
          "data": {
            "text/plain": [
              "(50, 50)"
            ]
          },
          "metadata": {},
          "execution_count": 5
        }
      ]
    },
    {
      "cell_type": "markdown",
      "source": [
        "Split Data into traning and test sets\n",
        "\n",
        "**training set -> validation set -> testing set**\n",
        "\n",
        "**Generaliztion - ** Generalization in machine learning refers to the ability of a model to perform well on unseen or new data points that were not part of the training dataset. It's essentially about how well the model can understand the underlying patterns in the data and make accurate predictions or classifications on new, unseen examples."
      ],
      "metadata": {
        "id": "SlSWQ0iJj9_l"
      }
    },
    {
      "cell_type": "code",
      "source": [
        "# create a train/test split\n",
        "\n",
        "train_split = int(0.8 * len(X))\n",
        "print(f'this {train_split} amount of data from dataset will be used for training out of {len(X)}')"
      ],
      "metadata": {
        "colab": {
          "base_uri": "https://localhost:8080/"
        },
        "id": "RwHYyu68j3CQ",
        "outputId": "0e80608a-d05c-41bc-88ad-c65e4ab2077f"
      },
      "execution_count": 6,
      "outputs": [
        {
          "output_type": "stream",
          "name": "stdout",
          "text": [
            "this 40 amount of data from dataset will be used for training out of 50\n"
          ]
        }
      ]
    },
    {
      "cell_type": "code",
      "source": [
        "X_train , y_train = X[:train_split], y[:train_split]\n",
        "X_test, y_test = X[train_split:], y[train_split:]"
      ],
      "metadata": {
        "id": "lL87tx1hlIWT"
      },
      "execution_count": 7,
      "outputs": []
    },
    {
      "cell_type": "code",
      "source": [
        "len(X_train), len(y_train)"
      ],
      "metadata": {
        "colab": {
          "base_uri": "https://localhost:8080/"
        },
        "id": "R2kpqFhrodEh",
        "outputId": "ac1bd50c-2d59-4daa-8e1d-e024f100cb90"
      },
      "execution_count": 8,
      "outputs": [
        {
          "output_type": "execute_result",
          "data": {
            "text/plain": [
              "(40, 40)"
            ]
          },
          "metadata": {},
          "execution_count": 8
        }
      ]
    },
    {
      "cell_type": "code",
      "source": [
        "len(X_test), len(y_test)"
      ],
      "metadata": {
        "colab": {
          "base_uri": "https://localhost:8080/"
        },
        "id": "RPAhQcyhoq9Y",
        "outputId": "831c391a-c60b-4a06-bd04-3838b9ad60dd"
      },
      "execution_count": 9,
      "outputs": [
        {
          "output_type": "execute_result",
          "data": {
            "text/plain": [
              "(10, 10)"
            ]
          },
          "metadata": {},
          "execution_count": 9
        }
      ]
    },
    {
      "cell_type": "code",
      "source": [
        "def plot_pred(train_data = X_train,\n",
        "              train_label = y_train,\n",
        "              test_data = X_test,\n",
        "              test_label = y_test,\n",
        "              pred = None):\n",
        "  \"\"\"\n",
        "  Plots training data,test data and compares predictions.\n",
        "  \"\"\"\n",
        "  plt.figure(figsize=(10, 7))\n",
        "\n",
        "  # Plot training data in blue\n",
        "  plt.scatter(train_data, train_label, c=\"b\", s=4, label=\"Training data\")\n",
        "\n",
        "  # Plot test data in green\n",
        "  plt.scatter(test_data, test_label, c=\"g\", s=4, label=\"Testing data\")\n",
        "\n",
        "  if pred is not None:\n",
        "    # Plot the predictions in red (predictions were made on the test data)\n",
        "    plt.scatter(test_data, pred, c=\"r\", s=4, label=\"Predictions\")\n",
        "\n",
        "  # Show the legend\n",
        "  plt.legend(prop={\"size\": 14});"
      ],
      "metadata": {
        "id": "kMCoadGjo3w5"
      },
      "execution_count": 10,
      "outputs": []
    },
    {
      "cell_type": "code",
      "source": [
        "plot_pred()"
      ],
      "metadata": {
        "colab": {
          "base_uri": "https://localhost:8080/",
          "height": 599
        },
        "id": "c4XgftcOrnuw",
        "outputId": "9043c0eb-42b2-49db-8688-210e062a0e57"
      },
      "execution_count": 11,
      "outputs": [
        {
          "output_type": "display_data",
          "data": {
            "text/plain": [
              "<Figure size 1000x700 with 1 Axes>"
            ],
            "image/png": "[encoded data removed]"
          },
          "metadata": {}
        }
      ]
    },
    {
      "cell_type": "markdown",
      "source": [
        "### **Building Model**"
      ],
      "metadata": {
        "id": "Vw3ALGOfs4nm"
      }
    },
    {
      "cell_type": "code",
      "source": [
        "class LinearRegression(nn.Module): # <- almost everything in PyTorch is a nn.Module (think of this as neural network lego blocks)\n",
        "\n",
        "  def __init__(self):\n",
        "\n",
        "    super().__init__()\n",
        "\n",
        "    self.weight = nn.Parameter(torch.randn(1,requires_grad=True,dtype= float))\n",
        "    self.bias = nn.Parameter(torch.randn(1,requires_grad=True,dtype= float))\n",
        "\n",
        "  # Forward defines the computation in the model\n",
        "  def forward(self,x:torch.Tensor):\n",
        "    return self.weight * x + self.bias # linear regression\n"
      ],
      "metadata": {
        "id": "h7nwhLVXs-WH"
      },
      "execution_count": 12,
      "outputs": []
    },
    {
      "cell_type": "markdown",
      "source": [
        "### Pytorch model building essentials\n",
        "nn.Module contains the larger building blocks (layers)\n",
        "nn.Parameter contains the smaller parameters like weights and biases (put these together to make nn.Module(s))\n",
        "forward() tells the larger blocks how to make calculations on inputs (tensors full of data) within nn.Module(s)\n",
        "torch.optim contains optimization methods on how to improve the parameters within nn.Parameter to better represent input data\n",
        "\n"
      ],
      "metadata": {
        "id": "YqOligQWxSmG"
      }
    },
    {
      "cell_type": "code",
      "source": [
        "# checking the contents of our PyTorch model\n",
        "\n",
        "# create a random seed\n",
        "\n",
        "torch.manual_seed(42)\n",
        "\n",
        "# create a instance of the model\n",
        "\n",
        "model_0 = LinearRegression()\n",
        "\n",
        "\n",
        "#checkout the parameters\n",
        "\n",
        "list(model_0.parameters())"
      ],
      "metadata": {
        "id": "vUPO56pytXkO",
        "colab": {
          "base_uri": "https://localhost:8080/"
        },
        "outputId": "949d582b-5e2c-415b-fd9e-d8ef966bcc12"
      },
      "execution_count": 13,
      "outputs": [
        {
          "output_type": "execute_result",
          "data": {
            "text/plain": [
              "[Parameter containing:\n",
              " tensor([0.3367], dtype=torch.float64, requires_grad=True),\n",
              " Parameter containing:\n",
              " tensor([0.1288], dtype=torch.float64, requires_grad=True)]"
            ]
          },
          "metadata": {},
          "execution_count": 13
        }
      ]
    },
    {
      "cell_type": "code",
      "source": [
        "# list named parameters\n",
        "\n",
        "model_0.state_dict()"
      ],
      "metadata": {
        "colab": {
          "base_uri": "https://localhost:8080/"
        },
        "id": "0s9-g2GIxRpd",
        "outputId": "0ef26e77-8cd7-4ab5-f5e9-d66b8af2ec40"
      },
      "execution_count": 14,
      "outputs": [
        {
          "output_type": "execute_result",
          "data": {
            "text/plain": [
              "OrderedDict([('weight', tensor([0.3367], dtype=torch.float64)),\n",
              "             ('bias', tensor([0.1288], dtype=torch.float64))])"
            ]
          },
          "metadata": {},
          "execution_count": 14
        }
      ]
    },
    {
      "cell_type": "code",
      "source": [
        "weight , bias"
      ],
      "metadata": {
        "colab": {
          "base_uri": "https://localhost:8080/"
        },
        "id": "hIMKwrN52ZRq",
        "outputId": "261bc27f-a0f1-4e26-9dc7-ec8449aaedf7"
      },
      "execution_count": 15,
      "outputs": [
        {
          "output_type": "execute_result",
          "data": {
            "text/plain": [
              "(0.7, 0.3)"
            ]
          },
          "metadata": {},
          "execution_count": 15
        }
      ]
    },
    {
      "cell_type": "markdown",
      "source": [
        "### Making Prediction using 'torch.inference_model()'"
      ],
      "metadata": {
        "id": "VYoAQsXE3IT6"
      }
    },
    {
      "cell_type": "code",
      "source": [
        "X_test"
      ],
      "metadata": {
        "colab": {
          "base_uri": "https://localhost:8080/"
        },
        "id": "O99gM9xz4jc7",
        "outputId": "2210e78e-aac7-4992-c43c-21528a67afab"
      },
      "execution_count": 16,
      "outputs": [
        {
          "output_type": "execute_result",
          "data": {
            "text/plain": [
              "tensor([[0.8000],\n",
              "        [0.8200],\n",
              "        [0.8400],\n",
              "        [0.8600],\n",
              "        [0.8800],\n",
              "        [0.9000],\n",
              "        [0.9200],\n",
              "        [0.9400],\n",
              "        [0.9600],\n",
              "        [0.9800]])"
            ]
          },
          "metadata": {},
          "execution_count": 16
        }
      ]
    },
    {
      "cell_type": "code",
      "source": [
        "y_test"
      ],
      "metadata": {
        "colab": {
          "base_uri": "https://localhost:8080/"
        },
        "id": "3jKF58RE4pEs",
        "outputId": "27f09917-e98d-489d-a10c-ab71dfee2329"
      },
      "execution_count": 17,
      "outputs": [
        {
          "output_type": "execute_result",
          "data": {
            "text/plain": [
              "tensor([[0.8600],\n",
              "        [0.8740],\n",
              "        [0.8880],\n",
              "        [0.9020],\n",
              "        [0.9160],\n",
              "        [0.9300],\n",
              "        [0.9440],\n",
              "        [0.9580],\n",
              "        [0.9720],\n",
              "        [0.9860]])"
            ]
          },
          "metadata": {},
          "execution_count": 17
        }
      ]
    },
    {
      "cell_type": "code",
      "source": [
        "with torch.inference_mode():  # always do this!!!\n",
        "  y_preds = model_0(X_test)\n",
        "\n",
        "y_preds"
      ],
      "metadata": {
        "colab": {
          "base_uri": "https://localhost:8080/"
        },
        "id": "QNv1txbj28xl",
        "outputId": "c65bbaa4-cb10-4540-de93-a2018c1922b9"
      },
      "execution_count": 18,
      "outputs": [
        {
          "output_type": "execute_result",
          "data": {
            "text/plain": [
              "tensor([[0.3982],\n",
              "        [0.4049],\n",
              "        [0.4116],\n",
              "        [0.4184],\n",
              "        [0.4251],\n",
              "        [0.4318],\n",
              "        [0.4386],\n",
              "        [0.4453],\n",
              "        [0.4520],\n",
              "        [0.4588]], dtype=torch.float64)"
            ]
          },
          "metadata": {},
          "execution_count": 18
        }
      ]
    },
    {
      "cell_type": "code",
      "source": [
        "plot_pred(pred = y_preds)"
      ],
      "metadata": {
        "colab": {
          "base_uri": "https://localhost:8080/",
          "height": 599
        },
        "id": "849lbscw6Roi",
        "outputId": "d6a98546-9e75-4abe-e015-f3bf5afb5ed5"
      },
      "execution_count": 19,
      "outputs": [
        {
          "output_type": "display_data",
          "data": {
            "text/plain": [
              "<Figure size 1000x700 with 1 Axes>"
            ],
            "image/png": "[encoded data removed]"
          },
          "metadata": {}
        }
      ]
    },
    {
      "cell_type": "markdown",
      "source": [
        "### Train Model"
      ],
      "metadata": {
        "id": "qNYDSwqkDPQ-"
      }
    },
    {
      "cell_type": "markdown",
      "source": [
        "loss funtion - to measure how poor or how wrong your model predicitons are use loss function (lower is better!)"
      ],
      "metadata": {
        "id": "1_HzStUeEVa-"
      }
    },
    {
      "cell_type": "markdown",
      "source": [
        "optimizer - after finding loss function we can set optimizer and it will adjusts the model's parameters (e.g. weight and bias)"
      ],
      "metadata": {
        "id": "NvhorXbhEqs6"
      }
    },
    {
      "cell_type": "code",
      "source": [
        "list(model_0.parameters())"
      ],
      "metadata": {
        "colab": {
          "base_uri": "https://localhost:8080/"
        },
        "id": "NsuZNopAC2Xc",
        "outputId": "3fe8b319-3520-45b8-dd43-13f1330f9ecb"
      },
      "execution_count": 20,
      "outputs": [
        {
          "output_type": "execute_result",
          "data": {
            "text/plain": [
              "[Parameter containing:\n",
              " tensor([0.3367], dtype=torch.float64, requires_grad=True),\n",
              " Parameter containing:\n",
              " tensor([0.1288], dtype=torch.float64, requires_grad=True)]"
            ]
          },
          "metadata": {},
          "execution_count": 20
        }
      ]
    },
    {
      "cell_type": "code",
      "source": [
        "model_0.state_dict()"
      ],
      "metadata": {
        "colab": {
          "base_uri": "https://localhost:8080/"
        },
        "id": "hfKbo9GeFONy",
        "outputId": "185756cb-ea24-472a-de59-97a4e78c2620"
      },
      "execution_count": 21,
      "outputs": [
        {
          "output_type": "execute_result",
          "data": {
            "text/plain": [
              "OrderedDict([('weight', tensor([0.3367], dtype=torch.float64)),\n",
              "             ('bias', tensor([0.1288], dtype=torch.float64))])"
            ]
          },
          "metadata": {},
          "execution_count": 21
        }
      ]
    },
    {
      "cell_type": "code",
      "source": [
        "# setup loss function\n",
        "\n",
        "loss_fn = nn.L1Loss()  # this calculate MAE\n",
        "\n",
        "# setup a optimizer(Stochastic gradient descent)\n",
        "\n",
        "optimizer = torch.optim.SGD(params= model_0.parameters(),\n",
        "                            lr= 0.01) # lr is hyperparameter"
      ],
      "metadata": {
        "id": "86Nj7on1FRzN"
      },
      "execution_count": 22,
      "outputs": []
    },
    {
      "cell_type": "markdown",
      "source": [
        "### Building a training loop and testing loop"
      ],
      "metadata": {
        "id": "KCDAbb5bKMAQ"
      }
    },
    {
      "cell_type": "code",
      "source": [
        "model_0.state_dict()"
      ],
      "metadata": {
        "colab": {
          "base_uri": "https://localhost:8080/"
        },
        "id": "IbH4iIWcM_3E",
        "outputId": "b1a795d9-7e4c-44b5-b55a-5bf5b724d5c8"
      },
      "execution_count": 23,
      "outputs": [
        {
          "output_type": "execute_result",
          "data": {
            "text/plain": [
              "OrderedDict([('weight', tensor([0.3367], dtype=torch.float64)),\n",
              "             ('bias', tensor([0.1288], dtype=torch.float64))])"
            ]
          },
          "metadata": {},
          "execution_count": 23
        }
      ]
    },
    {
      "cell_type": "code",
      "source": [
        "torch.manual_seed(42)\n",
        "\n",
        "# an epoch is one loop through data.. this is also a hyperparameter coz we've set it ourshelves\n",
        "\n",
        "epochs = 200\n",
        "\n",
        "# track different values\n",
        "epoch_count = []\n",
        "loss_values = []\n",
        "test_loss_values = []\n",
        "\n",
        "### training\n",
        "# 0. loop through the data\n",
        "\n",
        "for epoch in range(epochs):\n",
        "\n",
        "  # set the model to training mode\n",
        "  model_0.train()\n",
        "\n",
        "  # 1. forward pass\n",
        "  y_pred = model_0(X_train)\n",
        "\n",
        "  # 2. calculate the loss\n",
        "  loss = loss_fn(y_pred, y_train)\n",
        "  # print(f'Loss: {loss}')\n",
        "\n",
        "  # 3. optimizer zero grad\n",
        "  optimizer.zero_grad()\n",
        "\n",
        "  # 4. perform backpropagation on the loss w.r.t parameters of the model\n",
        "  loss.backward()\n",
        "\n",
        "  # 5. step the optimizer (perform gradient descent)\n",
        "  optimizer.step()\n",
        "\n",
        "  ### testing\n",
        "  model_0.eval() #turns off different settings in the model\n",
        "  with torch.inference_mode(): #turns off gradient tracking\n",
        "    # 1. do the forward pass\n",
        "    test_pred = model_0(X_test)\n",
        "\n",
        "    # 2. calculate the loss\n",
        "    test_loss = loss_fn(test_pred, y_test)\n",
        "\n",
        "  # print out all the status\n",
        "  if epoch % 10 == 0:\n",
        "\n",
        "    epoch_count.append(epoch)\n",
        "    loss_values.append(loss)\n",
        "    test_loss_values.append(test_loss)\n",
        "\n",
        "    print(f'Epoch: {epoch} | Loss: {loss} | Test Loss: {test_loss}')\n",
        "\n",
        "    #print out model state_dict()\n",
        "    print(model_0.state_dict())\n"
      ],
      "metadata": {
        "colab": {
          "base_uri": "https://localhost:8080/"
        },
        "id": "Pq5OH6fsKPSm",
        "outputId": "aee66de8-e40d-4609-f4f1-254acb67016a"
      },
      "execution_count": 24,
      "outputs": [
        {
          "output_type": "stream",
          "name": "stdout",
          "text": [
            "Epoch: 0 | Loss: 0.31288135683755547 | Test Loss: 0.4810651841540759\n",
            "OrderedDict([('weight', tensor([0.3406], dtype=torch.float64)), ('bias', tensor([0.1388], dtype=torch.float64))])\n",
            "Epoch: 10 | Loss: 0.1976713574739093 | Test Loss: 0.346355184508239\n",
            "OrderedDict([('weight', tensor([0.3796], dtype=torch.float64)), ('bias', tensor([0.2388], dtype=torch.float64))])\n",
            "Epoch: 20 | Loss: 0.08908721056311557 | Test Loss: 0.21729648486064157\n",
            "OrderedDict([('weight', tensor([0.4184], dtype=torch.float64)), ('bias', tensor([0.3333], dtype=torch.float64))])\n",
            "Epoch: 30 | Loss: 0.05314849742260115 | Test Loss: 0.14464008519991425\n",
            "OrderedDict([('weight', tensor([0.4512], dtype=torch.float64)), ('bias', tensor([0.3768], dtype=torch.float64))])\n",
            "Epoch: 40 | Loss: 0.04543793101588776 | Test Loss: 0.11360938544629148\n",
            "OrderedDict([('weight', tensor([0.4748], dtype=torch.float64)), ('bias', tensor([0.3868], dtype=torch.float64))])\n",
            "Epoch: 50 | Loss: 0.041678606478126046 | Test Loss: 0.09919938569279392\n",
            "OrderedDict([('weight', tensor([0.4938], dtype=torch.float64)), ('bias', tensor([0.3843], dtype=torch.float64))])\n",
            "Epoch: 60 | Loss: 0.03818929484512264 | Test Loss: 0.08886628595826254\n",
            "OrderedDict([('weight', tensor([0.5116], dtype=torch.float64)), ('bias', tensor([0.3788], dtype=torch.float64))])\n",
            "Epoch: 70 | Loss: 0.03476085499350197 | Test Loss: 0.08059388621223337\n",
            "OrderedDict([('weight', tensor([0.5288], dtype=torch.float64)), ('bias', tensor([0.3718], dtype=torch.float64))])\n",
            "Epoch: 80 | Loss: 0.031323806993240874 | Test Loss: 0.07232148646620422\n",
            "OrderedDict([('weight', tensor([0.5459], dtype=torch.float64)), ('bias', tensor([0.3648], dtype=torch.float64))])\n",
            "Epoch: 90 | Loss: 0.02788736528831538 | Test Loss: 0.06473598671634251\n",
            "OrderedDict([('weight', tensor([0.5629], dtype=torch.float64)), ('bias', tensor([0.3573], dtype=torch.float64))])\n",
            "Epoch: 100 | Loss: 0.024458925436694718 | Test Loss: 0.056463586970313374\n",
            "OrderedDict([('weight', tensor([0.5800], dtype=torch.float64)), ('bias', tensor([0.3503], dtype=torch.float64))])\n",
            "Epoch: 110 | Loss: 0.021020207499473125 | Test Loss: 0.04819118722428421\n",
            "OrderedDict([('weight', tensor([0.5972], dtype=torch.float64)), ('bias', tensor([0.3433], dtype=torch.float64))])\n",
            "Epoch: 120 | Loss: 0.01758543573150812 | Test Loss: 0.0406056874744225\n",
            "OrderedDict([('weight', tensor([0.6141], dtype=torch.float64)), ('bias', tensor([0.3358], dtype=torch.float64))])\n",
            "Epoch: 130 | Loss: 0.014155407836221082 | Test Loss: 0.032333287728393355\n",
            "OrderedDict([('weight', tensor([0.6313], dtype=torch.float64)), ('bias', tensor([0.3288], dtype=torch.float64))])\n",
            "Epoch: 140 | Loss: 0.01071660800570538 | Test Loss: 0.0240608879823642\n",
            "OrderedDict([('weight', tensor([0.6485], dtype=torch.float64)), ('bias', tensor([0.3218], dtype=torch.float64))])\n",
            "Epoch: 150 | Loss: 0.007283506174700874 | Test Loss: 0.016475388232502497\n",
            "OrderedDict([('weight', tensor([0.6654], dtype=torch.float64)), ('bias', tensor([0.3143], dtype=torch.float64))])\n",
            "Epoch: 160 | Loss: 0.003851808342453336 | Test Loss: 0.008202988486473361\n",
            "OrderedDict([('weight', tensor([0.6826], dtype=torch.float64)), ('bias', tensor([0.3073], dtype=torch.float64))])\n",
            "Epoch: 170 | Loss: 0.008931236682358016 | Test Loss: 0.005024588669596586\n",
            "OrderedDict([('weight', tensor([0.6951], dtype=torch.float64)), ('bias', tensor([0.2993], dtype=torch.float64))])\n",
            "Epoch: 180 | Loss: 0.008931236682358016 | Test Loss: 0.005024588669596586\n",
            "OrderedDict([('weight', tensor([0.6951], dtype=torch.float64)), ('bias', tensor([0.2993], dtype=torch.float64))])\n",
            "Epoch: 190 | Loss: 0.008931236682358016 | Test Loss: 0.005024588669596586\n",
            "OrderedDict([('weight', tensor([0.6951], dtype=torch.float64)), ('bias', tensor([0.2993], dtype=torch.float64))])\n"
          ]
        }
      ]
    },
    {
      "cell_type": "code",
      "source": [
        "# Plot the loss curves\n",
        "\n",
        "import numpy as np\n",
        "\n",
        "num_loss_values = np.array(torch.tensor(loss_values).numpy())\n",
        "\n",
        "plt.plot(epoch_count, num_loss_values, label='Train Loss')\n",
        "plt.plot(epoch_count, test_loss_values, label='Test Loss')\n",
        "plt.title('Training and Test Loss Curves')\n",
        "plt.ylabel('Loss')\n",
        "plt.xlabel('Epochs')\n",
        "plt.legend();"
      ],
      "metadata": {
        "colab": {
          "base_uri": "https://localhost:8080/",
          "height": 472
        },
        "id": "2UvvSJxhdzub",
        "outputId": "58132a59-eb99-44de-cfe9-e7fed064a280"
      },
      "execution_count": 25,
      "outputs": [
        {
          "output_type": "display_data",
          "data": {
            "text/plain": [
              "<Figure size 640x480 with 1 Axes>"
            ],
            "image/png": "[encoded data removed]"
          },
          "metadata": {}
        }
      ]
    },
    {
      "cell_type": "code",
      "source": [
        "# Loss: 0.06395434770137572\n",
        "# OrderedDict([('weight', tensor([0.4361], dtype=torch.float64)), ('bias', tensor([0.3613], dtype=torch.float64))])"
      ],
      "metadata": {
        "id": "o4SVoX5JaO1T"
      },
      "execution_count": 26,
      "outputs": []
    },
    {
      "cell_type": "code",
      "source": [
        "with torch.inference_mode():\n",
        "  y_preds_new = model_0(X_test)"
      ],
      "metadata": {
        "id": "fruvvsrZh1S2"
      },
      "execution_count": 27,
      "outputs": []
    },
    {
      "cell_type": "code",
      "source": [
        "model_0.state_dict()"
      ],
      "metadata": {
        "colab": {
          "base_uri": "https://localhost:8080/"
        },
        "id": "LMKXzoPubReE",
        "outputId": "114ba13f-8caf-48ef-e0ad-02ed1d8dec61"
      },
      "execution_count": 28,
      "outputs": [
        {
          "output_type": "execute_result",
          "data": {
            "text/plain": [
              "OrderedDict([('weight', tensor([0.6990], dtype=torch.float64)),\n",
              "             ('bias', tensor([0.3093], dtype=torch.float64))])"
            ]
          },
          "metadata": {},
          "execution_count": 28
        }
      ]
    },
    {
      "cell_type": "code",
      "source": [
        "plot_pred(pred = y_preds)"
      ],
      "metadata": {
        "colab": {
          "base_uri": "https://localhost:8080/",
          "height": 599
        },
        "id": "Cn3_wUgdZTUm",
        "outputId": "64af7fdd-1d58-4beb-e5d3-9fd3dd2c67b4"
      },
      "execution_count": 29,
      "outputs": [
        {
          "output_type": "display_data",
          "data": {
            "text/plain": [
              "<Figure size 1000x700 with 1 Axes>"
            ],
            "image/png": "[encoded data removed]"
          },
          "metadata": {}
        }
      ]
    },
    {
      "cell_type": "code",
      "source": [
        "plot_pred(pred = y_preds_new)"
      ],
      "metadata": {
        "colab": {
          "base_uri": "https://localhost:8080/",
          "height": 599
        },
        "id": "Mi_oEsOPcgse",
        "outputId": "faa7c1cf-ce3d-4654-da1f-6eced8801d49"
      },
      "execution_count": 30,
      "outputs": [
        {
          "output_type": "display_data",
          "data": {
            "text/plain": [
              "<Figure size 1000x700 with 1 Axes>"
            ],
            "image/png": "[encoded data removed]"
          },
          "metadata": {}
        }
      ]
    },
    {
      "cell_type": "markdown",
      "source": [
        "### Saving a model in Pytorch"
      ],
      "metadata": {
        "id": "P_aoVjxniJ0_"
      }
    },
    {
      "cell_type": "code",
      "source": [
        "from pathlib import Path\n",
        "\n",
        "\n",
        "# 1. Create models directory\n",
        "\n",
        "MODEL_PATH = Path('models')\n",
        "MODEL_PATH.mkdir(parents = True, exist_ok=True)\n",
        "\n",
        "\n",
        "# 2. create model save path\n",
        "\n",
        "MODEL_NAME = '01_pytorch_model_0.pth'\n",
        "MODEL_SAVE_PATH = MODEL_PATH / MODEL_NAME\n",
        "\n",
        "# 3. save the model\n",
        "print(f'Saving Model To: {MODEL_SAVE_PATH}')\n",
        "torch.save(obj=model_0.state_dict(),\n",
        "           f=MODEL_SAVE_PATH)"
      ],
      "metadata": {
        "colab": {
          "base_uri": "https://localhost:8080/"
        },
        "id": "5jT58AlziJcQ",
        "outputId": "6e99d4c6-b134-44ae-93a6-fa7d7f7d136a"
      },
      "execution_count": 31,
      "outputs": [
        {
          "output_type": "stream",
          "name": "stdout",
          "text": [
            "Saving Model To: models/01_pytorch_model_0.pth\n"
          ]
        }
      ]
    },
    {
      "cell_type": "code",
      "source": [
        "!ls -l models"
      ],
      "metadata": {
        "colab": {
          "base_uri": "https://localhost:8080/"
        },
        "id": "SQ2KQb1taqmd",
        "outputId": "4f96adb9-7b89-4859-a05c-53cf2b27be41"
      },
      "execution_count": 32,
      "outputs": [
        {
          "output_type": "stream",
          "name": "stdout",
          "text": [
            "total 4\n",
            "-rw-r--r-- 1 root root 1562 May 26 16:24 01_pytorch_model_0.pth\n"
          ]
        }
      ]
    },
    {
      "cell_type": "code",
      "source": [
        "## Loading the model\n",
        "\n",
        "#create a new instance\n",
        "\n",
        "loaded_model_0 = LinearRegression()\n",
        "\n",
        "#load the saved dict of the model_0\n",
        "loaded_model_0.load_state_dict(torch.load(f=MODEL_SAVE_PATH))"
      ],
      "metadata": {
        "colab": {
          "base_uri": "https://localhost:8080/"
        },
        "id": "q8SlYnQGmlGp",
        "outputId": "26834b2d-e672-447f-b39d-b75b6a112934"
      },
      "execution_count": 33,
      "outputs": [
        {
          "output_type": "execute_result",
          "data": {
            "text/plain": [
              "<All keys matched successfully>"
            ]
          },
          "metadata": {},
          "execution_count": 33
        }
      ]
    },
    {
      "cell_type": "code",
      "source": [
        "loaded_model_0.state_dict()"
      ],
      "metadata": {
        "colab": {
          "base_uri": "https://localhost:8080/"
        },
        "id": "45_mxUpEpyqW",
        "outputId": "f0597931-88b7-4930-a8ae-187d1cace2f2"
      },
      "execution_count": 34,
      "outputs": [
        {
          "output_type": "execute_result",
          "data": {
            "text/plain": [
              "OrderedDict([('weight', tensor([0.6990], dtype=torch.float64)),\n",
              "             ('bias', tensor([0.3093], dtype=torch.float64))])"
            ]
          },
          "metadata": {},
          "execution_count": 34
        }
      ]
    },
    {
      "cell_type": "code",
      "source": [
        "#make some prediction\n",
        "\n",
        "loaded_model_0.eval()\n",
        "with torch.inference_mode():\n",
        "  loaded_model_pred = loaded_model_0(X_test)\n",
        "\n",
        "loaded_model_pred"
      ],
      "metadata": {
        "colab": {
          "base_uri": "https://localhost:8080/"
        },
        "id": "RValVEQCqaGl",
        "outputId": "6c2484bd-6fc1-48f6-ada1-f862c3caf3c1"
      },
      "execution_count": 35,
      "outputs": [
        {
          "output_type": "execute_result",
          "data": {
            "text/plain": [
              "tensor([[0.8685],\n",
              "        [0.8825],\n",
              "        [0.8965],\n",
              "        [0.9105],\n",
              "        [0.9245],\n",
              "        [0.9384],\n",
              "        [0.9524],\n",
              "        [0.9664],\n",
              "        [0.9804],\n",
              "        [0.9944]], dtype=torch.float64)"
            ]
          },
          "metadata": {},
          "execution_count": 35
        }
      ]
    },
    {
      "cell_type": "code",
      "source": [
        "model_0.eval()\n",
        "with torch.inference_mode():\n",
        "  y_preds = model_0(X_test)\n",
        "y_preds"
      ],
      "metadata": {
        "colab": {
          "base_uri": "https://localhost:8080/"
        },
        "id": "nHixSstxqvTk",
        "outputId": "3e07ef3b-80e7-46b3-9798-e43925f4793f"
      },
      "execution_count": 36,
      "outputs": [
        {
          "output_type": "execute_result",
          "data": {
            "text/plain": [
              "tensor([[0.8685],\n",
              "        [0.8825],\n",
              "        [0.8965],\n",
              "        [0.9105],\n",
              "        [0.9245],\n",
              "        [0.9384],\n",
              "        [0.9524],\n",
              "        [0.9664],\n",
              "        [0.9804],\n",
              "        [0.9944]], dtype=torch.float64)"
            ]
          },
          "metadata": {},
          "execution_count": 36
        }
      ]
    },
    {
      "cell_type": "code",
      "source": [
        "#compare with y_preds of model_0\n",
        "y_preds == loaded_model_pred"
      ],
      "metadata": {
        "colab": {
          "base_uri": "https://localhost:8080/"
        },
        "id": "1GEttF9jq7Le",
        "outputId": "b295676a-1f0a-4500-9c55-5bece94bf806"
      },
      "execution_count": 37,
      "outputs": [
        {
          "output_type": "execute_result",
          "data": {
            "text/plain": [
              "tensor([[True],\n",
              "        [True],\n",
              "        [True],\n",
              "        [True],\n",
              "        [True],\n",
              "        [True],\n",
              "        [True],\n",
              "        [True],\n",
              "        [True],\n",
              "        [True]])"
            ]
          },
          "metadata": {},
          "execution_count": 37
        }
      ]
    },
    {
      "cell_type": "markdown",
      "source": [
        "### Putting Everything Together"
      ],
      "metadata": {
        "id": "hy1GWkp_r6qK"
      }
    },
    {
      "cell_type": "code",
      "source": [
        "# Importing PyTorch, matplotlib, numpy\n",
        "\n",
        "import torch\n",
        "from torch import nn\n",
        "import matplotlib.pyplot as plt\n",
        "import numpy as np\n",
        "\n",
        "#check version\n",
        "\n",
        "torch.__version__"
      ],
      "metadata": {
        "colab": {
          "base_uri": "https://localhost:8080/",
          "height": 35
        },
        "id": "g5_HnE-Kr5-Y",
        "outputId": "72c24886-3039-43c0-a91f-d4b7afdd4add"
      },
      "execution_count": 38,
      "outputs": [
        {
          "output_type": "execute_result",
          "data": {
            "text/plain": [
              "'2.3.0+cu121'"
            ],
            "application/vnd.google.colaboratory.intrinsic+json": {
              "type": "string"
            }
          },
          "metadata": {},
          "execution_count": 38
        }
      ]
    },
    {
      "cell_type": "markdown",
      "source": [
        "Create Device Agnostic Code -> This means if we got GPU it will work on GPU not it in CPU"
      ],
      "metadata": {
        "id": "w-kQCLa9sw45"
      }
    },
    {
      "cell_type": "code",
      "source": [
        "# setup device agnostic code\n",
        "\n",
        "device = 'cuda' if torch.cuda.is_available() else 'cpu'\n",
        "print(f'Current Device: {device}')"
      ],
      "metadata": {
        "colab": {
          "base_uri": "https://localhost:8080/"
        },
        "id": "wnD41_IgsZA_",
        "outputId": "3767d9df-3254-4195-a956-ab8b496559eb"
      },
      "execution_count": 39,
      "outputs": [
        {
          "output_type": "stream",
          "name": "stdout",
          "text": [
            "Current Device: cuda\n"
          ]
        }
      ]
    },
    {
      "cell_type": "markdown",
      "source": [
        "### 6.1 Data"
      ],
      "metadata": {
        "id": "m4KG7bjSuC8s"
      }
    },
    {
      "cell_type": "code",
      "source": [
        "# create data using linear reg formual y = mx + c\n",
        "\n",
        "weight = 0.7 # slope\n",
        "bias = 0.3 # y-intercept\n",
        "\n",
        "# create range values\n",
        "\n",
        "start = 0\n",
        "end = 1\n",
        "step = 0.02\n",
        "\n",
        "#create X and y (features and label)\n",
        "\n",
        "X = torch.arange(start, end, step).unsqueeze(dim=1)\n",
        "y = weight * X + bias"
      ],
      "metadata": {
        "id": "3pAMLYNQtaha"
      },
      "execution_count": 40,
      "outputs": []
    },
    {
      "cell_type": "code",
      "source": [
        "#split the data\n",
        "\n",
        "train_split = int(0.8 * len(X)) # 80% of data will be use as training\n",
        "X_train, y_train = X[:train_split], y[:train_split]\n",
        "X_test, y_test = X[train_split:], y[train_split:]\n",
        "\n",
        "len(X_train), len(y_train), len(X_test), len(y_test)"
      ],
      "metadata": {
        "colab": {
          "base_uri": "https://localhost:8080/"
        },
        "id": "rHWekqy2rfEp",
        "outputId": "05d71f62-71bf-4854-fd44-a7609ea1e341"
      },
      "execution_count": 42,
      "outputs": [
        {
          "output_type": "execute_result",
          "data": {
            "text/plain": [
              "(40, 40, 10, 10)"
            ]
          },
          "metadata": {},
          "execution_count": 42
        }
      ]
    },
    {
      "cell_type": "code",
      "source": [
        "# plot the data\n",
        "\n",
        "plot_pred()"
      ],
      "metadata": {
        "colab": {
          "base_uri": "https://localhost:8080/",
          "height": 599
        },
        "id": "LZ4x2OqDw4Gg",
        "outputId": "63ddf4af-8fac-480a-c683-9753bd458c48"
      },
      "execution_count": 43,
      "outputs": [
        {
          "output_type": "display_data",
          "data": {
            "text/plain": [
              "<Figure size 1000x700 with 1 Axes>"
            ],
            "image/png": "[encoded data removed]"
          },
          "metadata": {}
        }
      ]
    },
    {
      "cell_type": "markdown",
      "source": [
        "### 6.2 Building PyTorch Linear Model"
      ],
      "metadata": {
        "id": "pvU2W6ZhxoV8"
      }
    },
    {
      "cell_type": "code",
      "source": [
        "#create a liner model by subclassing nn.module\n",
        "\n",
        "class LinearRegressionV2(nn.Module):\n",
        "  def __init__(self):\n",
        "    super().__init__()\n",
        "    # use nn.Linear() for linear parameters\n",
        "    self.linear_layer = nn.Linear(in_features=1,\n",
        "                                  out_features=1)\n",
        "\n",
        "  def forward(self, x: torch.Tensor) -> torch.Tensor:\n",
        "    return self.linear_layer(x)\n",
        "\n",
        "# set the manual seed\n",
        "torch.manual_seed(42)\n",
        "\n",
        "model_1 = LinearRegressionV2()\n",
        "model_1.state_dict()"
      ],
      "metadata": {
        "colab": {
          "base_uri": "https://localhost:8080/"
        },
        "id": "7a71kuqJxoGu",
        "outputId": "0060c08c-1a24-4945-bdd7-92792b53da3e"
      },
      "execution_count": 45,
      "outputs": [
        {
          "output_type": "execute_result",
          "data": {
            "text/plain": [
              "OrderedDict([('linear_layer.weight', tensor([[0.7645]])),\n",
              "             ('linear_layer.bias', tensor([0.8300]))])"
            ]
          },
          "metadata": {},
          "execution_count": 45
        }
      ]
    },
    {
      "cell_type": "code",
      "source": [
        "# set the model to use the target device (cuda)\n",
        "model_1.to(device)\n",
        "next(model_1.parameters()).device"
      ],
      "metadata": {
        "colab": {
          "base_uri": "https://localhost:8080/"
        },
        "id": "TWaNLNNdxWIh",
        "outputId": "1bce807b-724f-4ce1-a9a2-369c04c25175"
      },
      "execution_count": 46,
      "outputs": [
        {
          "output_type": "execute_result",
          "data": {
            "text/plain": [
              "device(type='cuda', index=0)"
            ]
          },
          "metadata": {},
          "execution_count": 46
        }
      ]
    },
    {
      "cell_type": "markdown",
      "source": [
        "### 6.3 Training\n",
        "\n",
        "loss function,\n",
        "optimizer,\n",
        "training loop,\n",
        "testing loop,"
      ],
      "metadata": {
        "id": "GfZtzurW16TI"
      }
    },
    {
      "cell_type": "code",
      "source": [
        "#setup the loss function\n",
        "\n",
        "loss_fn = nn.L1Loss() #mae\n",
        "\n",
        "#setup the optimizer\n",
        "\n",
        "optim = torch.optim.SGD(params = model_1.parameters(),\n",
        "                        lr = 0.01)"
      ],
      "metadata": {
        "id": "fNGxyM1Z12KB"
      },
      "execution_count": 49,
      "outputs": []
    },
    {
      "cell_type": "code",
      "source": [
        "#Setup the training loop\n",
        "\n",
        "torch.manual_seed(42)\n",
        "\n",
        "epochs = 200\n",
        "\n",
        "#put data on gpu/cude (device agnostic code)\n",
        "X_train = X_train.to(device)\n",
        "y_train = y_train.to(device)\n",
        "X_test = X_test.to(device)\n",
        "y_test = y_test.to(device)\n",
        "\n",
        "\n",
        "for epoch in range(epochs):\n",
        "  model_1.train()\n",
        "\n",
        "  # 1. forward pass\n",
        "  y_pred = model_1(X_train) #this data will go through linear layer\n",
        "\n",
        "  # 2. calculate the loss\n",
        "  loss_val = loss_fn(y_pred, y_train)\n",
        "\n",
        "  # 3. zero the optim grad\n",
        "  optim.zero_grad()\n",
        "\n",
        "  # 4. backpropagation on loss\n",
        "  loss_val.backward()\n",
        "\n",
        "  # 5. optim step\n",
        "  optim.step()\n",
        "\n",
        "  ### Testing\n",
        "  model_1.eval()\n",
        "  with torch.inference_mode():\n",
        "    test_pred = model_1(X_test)\n",
        "\n",
        "    test_loss = loss_fn(test_pred, y_test)\n",
        "\n",
        "  #print the result\n",
        "\n",
        "  if epoch % 10 == 0:\n",
        "    print(f'Epoch: {epoch} | Loss: {loss_val} | Test Loss: {test_loss}')"
      ],
      "metadata": {
        "colab": {
          "base_uri": "https://localhost:8080/"
        },
        "id": "Qs28CZVw3El6",
        "outputId": "ccdc1612-b570-44ea-dae1-58163bdf972f"
      },
      "execution_count": 52,
      "outputs": [
        {
          "output_type": "stream",
          "name": "stdout",
          "text": [
            "Epoch: 0 | Loss: 0.5551779866218567 | Test Loss: 0.5739762187004089\n",
            "Epoch: 10 | Loss: 0.439968079328537 | Test Loss: 0.4392664134502411\n",
            "Epoch: 20 | Loss: 0.3247582018375397 | Test Loss: 0.30455657839775085\n",
            "Epoch: 30 | Loss: 0.20954833924770355 | Test Loss: 0.16984669864177704\n",
            "Epoch: 40 | Loss: 0.09433845430612564 | Test Loss: 0.03513690456748009\n",
            "Epoch: 50 | Loss: 0.023886388167738914 | Test Loss: 0.04784907028079033\n",
            "Epoch: 60 | Loss: 0.019956795498728752 | Test Loss: 0.045803118497133255\n",
            "Epoch: 70 | Loss: 0.016517987474799156 | Test Loss: 0.037530567497015\n",
            "Epoch: 80 | Loss: 0.013089174404740334 | Test Loss: 0.02994490973651409\n",
            "Epoch: 90 | Loss: 0.009653178043663502 | Test Loss: 0.02167237363755703\n",
            "Epoch: 100 | Loss: 0.006215683650225401 | Test Loss: 0.014086711220443249\n",
            "Epoch: 110 | Loss: 0.00278724217787385 | Test Loss: 0.005814164876937866\n",
            "Epoch: 120 | Loss: 0.0012645035749301314 | Test Loss: 0.013801801018416882\n",
            "Epoch: 130 | Loss: 0.0012645035749301314 | Test Loss: 0.013801801018416882\n",
            "Epoch: 140 | Loss: 0.0012645035749301314 | Test Loss: 0.013801801018416882\n",
            "Epoch: 150 | Loss: 0.0012645035749301314 | Test Loss: 0.013801801018416882\n",
            "Epoch: 160 | Loss: 0.0012645035749301314 | Test Loss: 0.013801801018416882\n",
            "Epoch: 170 | Loss: 0.0012645035749301314 | Test Loss: 0.013801801018416882\n",
            "Epoch: 180 | Loss: 0.0012645035749301314 | Test Loss: 0.013801801018416882\n",
            "Epoch: 190 | Loss: 0.0012645035749301314 | Test Loss: 0.013801801018416882\n"
          ]
        }
      ]
    },
    {
      "cell_type": "code",
      "source": [
        "model_1.state_dict()"
      ],
      "metadata": {
        "colab": {
          "base_uri": "https://localhost:8080/"
        },
        "id": "LIn7ZytX5aIR",
        "outputId": "3edef259-2010-4f38-cb5f-d5cde0052a70"
      },
      "execution_count": 53,
      "outputs": [
        {
          "output_type": "execute_result",
          "data": {
            "text/plain": [
              "OrderedDict([('linear_layer.weight', tensor([[0.6968]], device='cuda:0')),\n",
              "             ('linear_layer.bias', tensor([0.3025], device='cuda:0'))])"
            ]
          },
          "metadata": {},
          "execution_count": 53
        }
      ]
    },
    {
      "cell_type": "markdown",
      "source": [
        "### 6.4 Making and Evaluation Prediction"
      ],
      "metadata": {
        "id": "Ge2WLuL57baW"
      }
    },
    {
      "cell_type": "code",
      "source": [
        "# turn model into eval() mode\n",
        "\n",
        "model_1.eval()\n",
        "\n",
        "#make prediction on the test\n",
        "with torch.inference_mode():\n",
        "  y_preds = model_1(X_test)\n",
        "y_preds"
      ],
      "metadata": {
        "colab": {
          "base_uri": "https://localhost:8080/"
        },
        "id": "sB4GGHi07Zk9",
        "outputId": "595aa964-11cd-438e-e42f-6ca26548a902"
      },
      "execution_count": 55,
      "outputs": [
        {
          "output_type": "execute_result",
          "data": {
            "text/plain": [
              "tensor([[0.8600],\n",
              "        [0.8739],\n",
              "        [0.8878],\n",
              "        [0.9018],\n",
              "        [0.9157],\n",
              "        [0.9296],\n",
              "        [0.9436],\n",
              "        [0.9575],\n",
              "        [0.9714],\n",
              "        [0.9854]], device='cuda:0')"
            ]
          },
          "metadata": {},
          "execution_count": 55
        }
      ]
    },
    {
      "cell_type": "code",
      "source": [
        "#visual the predictions\n",
        "\n",
        "plot_pred(pred = y_preds.cpu())"
      ],
      "metadata": {
        "colab": {
          "base_uri": "https://localhost:8080/",
          "height": 599
        },
        "id": "g0CVfdeC8DhQ",
        "outputId": "9a39d177-cd40-4ca6-c9a3-1a3dd40de7ae"
      },
      "execution_count": 57,
      "outputs": [
        {
          "output_type": "display_data",
          "data": {
            "text/plain": [
              "<Figure size 1000x700 with 1 Axes>"
            ],
            "image/png": "[encoded data removed]"
          },
          "metadata": {}
        }
      ]
    },
    {
      "cell_type": "markdown",
      "source": [
        "### 6.5 Saving & loading a trained model"
      ],
      "metadata": {
        "id": "nqXOZcIm8zDj"
      }
    },
    {
      "cell_type": "code",
      "source": [
        "from pathlib import Path\n",
        "\n",
        "# 1. Create models directory\n",
        "MODEL_PATH = Path(\"models\")\n",
        "MODEL_PATH.mkdir(parents=True, exist_ok=True)\n",
        "\n",
        "# 2. Create model save path\n",
        "MODEL_NAME = \"01_pytorch_model_1.pth\"\n",
        "MODEL_SAVE_PATH = MODEL_PATH / MODEL_NAME\n",
        "\n",
        "# 3. Save the model state dict\n",
        "print(f\"Saving model to: {MODEL_SAVE_PATH}\")\n",
        "torch.save(obj=model_1.state_dict(), # only saving the state_dict() only saves the models learned parameters\n",
        "           f=MODEL_SAVE_PATH)"
      ],
      "metadata": {
        "colab": {
          "base_uri": "https://localhost:8080/"
        },
        "id": "_4J0HS-O8zgY",
        "outputId": "7d52b24d-7534-4af9-b4fa-546b5882b86a"
      },
      "execution_count": 60,
      "outputs": [
        {
          "output_type": "stream",
          "name": "stdout",
          "text": [
            "Saving model to: models/01_pytorch_model_1.pth\n"
          ]
        }
      ]
    },
    {
      "cell_type": "code",
      "source": [
        "# Instantiate a fresh instance of LinearRegressionModelV2\n",
        "loaded_model_1 = LinearRegressionV2()\n",
        "\n",
        "# Load model state dict\n",
        "loaded_model_1.load_state_dict(torch.load(MODEL_SAVE_PATH))\n",
        "\n",
        "# Put model to target device (if your data is on GPU, model will have to be on GPU to make predictions)\n",
        "loaded_model_1.to(device)\n",
        "\n",
        "print(f\"Loaded model:\\n{loaded_model_1}\")\n",
        "print(f\"Model on device:\\n{next(loaded_model_1.parameters()).device}\")"
      ],
      "metadata": {
        "colab": {
          "base_uri": "https://localhost:8080/"
        },
        "id": "zf06RY7v_OEe",
        "outputId": "1dc22840-0d21-47ed-fc9f-970bb68a9942"
      },
      "execution_count": 61,
      "outputs": [
        {
          "output_type": "stream",
          "name": "stdout",
          "text": [
            "Loaded model:\n",
            "LinearRegressionV2(\n",
            "  (linear_layer): Linear(in_features=1, out_features=1, bias=True)\n",
            ")\n",
            "Model on device:\n",
            "cuda:0\n"
          ]
        }
      ]
    },
    {
      "cell_type": "code",
      "source": [
        "# Evaluate loaded model\n",
        "loaded_model_1.eval()\n",
        "with torch.inference_mode():\n",
        "    loaded_model_1_preds = loaded_model_1(X_test)\n",
        "y_preds == loaded_model_1_preds"
      ],
      "metadata": {
        "colab": {
          "base_uri": "https://localhost:8080/"
        },
        "id": "uAA3-xyy_d-C",
        "outputId": "6bbac5b0-dc87-4f4e-b004-c0185d817416"
      },
      "execution_count": 62,
      "outputs": [
        {
          "output_type": "execute_result",
          "data": {
            "text/plain": [
              "tensor([[True],\n",
              "        [True],\n",
              "        [True],\n",
              "        [True],\n",
              "        [True],\n",
              "        [True],\n",
              "        [True],\n",
              "        [True],\n",
              "        [True],\n",
              "        [True]], device='cuda:0')"
            ]
          },
          "metadata": {},
          "execution_count": 62
        }
      ]
    }
  ]
}