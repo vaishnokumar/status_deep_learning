{
  "nbformat": 4,
  "nbformat_minor": 0,
  "metadata": {
    "colab": {
      "provenance": [],
      "gpuType": "T4",
      "authorship_tag": "ABX9TyOVWab3r1Z1jhTKPN3UtkQm",
      "include_colab_link": true
    },
    "kernelspec": {
      "name": "python3",
      "display_name": "Python 3"
    },
    "language_info": {
      "name": "python"
    },
    "accelerator": "GPU"
  },
  "cells": [
    {
      "cell_type": "markdown",
      "metadata": {
        "id": "view-in-github",
        "colab_type": "text"
      },
      "source": [
        "<a href=\"https://colab.research.google.com/github/vaishnokumar/status_deep_learning/blob/main/00_EX.ipynb\" target=\"_parent\"><img src=\"https://colab.research.google.com/assets/colab-badge.svg\" alt=\"Open In Colab\"/></a>"
      ]
    },
    {
      "cell_type": "code",
      "execution_count": 1,
      "metadata": {
        "colab": {
          "base_uri": "https://localhost:8080/",
          "height": 35
        },
        "id": "dDUNWB6z5tl4",
        "outputId": "d5eedb3e-9409-4c7a-9a3a-551e827a458d"
      },
      "outputs": [
        {
          "output_type": "execute_result",
          "data": {
            "text/plain": [
              "'2.3.0+cu121'"
            ],
            "application/vnd.google.colaboratory.intrinsic+json": {
              "type": "string"
            }
          },
          "metadata": {},
          "execution_count": 1
        }
      ],
      "source": [
        "import torch\n",
        "torch.__version__"
      ]
    },
    {
      "cell_type": "code",
      "source": [
        "rand_ten = torch.rand(7, 7)\n",
        "rand_ten"
      ],
      "metadata": {
        "colab": {
          "base_uri": "https://localhost:8080/"
        },
        "id": "InzCwrpH6KYQ",
        "outputId": "e606fb87-1105-4b4e-cba5-1f29d647ea43"
      },
      "execution_count": 2,
      "outputs": [
        {
          "output_type": "execute_result",
          "data": {
            "text/plain": [
              "tensor([[0.2771, 0.5122, 0.2740, 0.9420, 0.9668, 0.8741, 0.9546],\n",
              "        [0.8921, 0.3455, 0.0525, 0.7964, 0.1445, 0.0350, 0.8051],\n",
              "        [0.4785, 0.1842, 0.0919, 0.9794, 0.6333, 0.4374, 0.5756],\n",
              "        [0.0223, 0.6248, 0.5825, 0.6076, 0.5960, 0.3298, 0.5341],\n",
              "        [0.0058, 0.9350, 0.1807, 0.8967, 0.6628, 0.3481, 0.1902],\n",
              "        [0.3984, 0.5288, 0.5462, 0.4014, 0.3608, 0.7112, 0.2104],\n",
              "        [0.8728, 0.6405, 0.3561, 0.9328, 0.1537, 0.7631, 0.9052]])"
            ]
          },
          "metadata": {},
          "execution_count": 2
        }
      ]
    },
    {
      "cell_type": "code",
      "source": [
        "rand_ten1 = torch.rand(1, 7)\n",
        "rand_ten2 = rand_ten1.T"
      ],
      "metadata": {
        "id": "0kMqUOgu6shn"
      },
      "execution_count": 3,
      "outputs": []
    },
    {
      "cell_type": "code",
      "source": [
        "rand_ten3 = torch.matmul(rand_ten, rand_ten2)\n",
        "rand_ten3, rand_ten3.shape"
      ],
      "metadata": {
        "colab": {
          "base_uri": "https://localhost:8080/"
        },
        "id": "TjLhlxf-8HKX",
        "outputId": "6c15551b-144a-4137-d66e-696c9b8e63e5"
      },
      "execution_count": 4,
      "outputs": [
        {
          "output_type": "execute_result",
          "data": {
            "text/plain": [
              "(tensor([[3.3602],\n",
              "         [2.0240],\n",
              "         [2.3327],\n",
              "         [2.3629],\n",
              "         [2.2985],\n",
              "         [2.3950],\n",
              "         [3.3942]]),\n",
              " torch.Size([7, 1]))"
            ]
          },
          "metadata": {},
          "execution_count": 4
        }
      ]
    },
    {
      "cell_type": "code",
      "source": [
        "random_seed = 0\n",
        "\n",
        "torch.manual_seed(seed= random_seed)\n",
        "\n",
        "rand1 = torch.rand(7, 7)\n",
        "\n",
        "rand2 = torch.rand(1, 7)\n",
        "rand3 = rand2.T\n",
        "\n",
        "rand4 = torch.matmul(rand1, rand3)\n",
        "\n",
        "rand4, rand4.shape"
      ],
      "metadata": {
        "colab": {
          "base_uri": "https://localhost:8080/"
        },
        "id": "GaK08LHe971t",
        "outputId": "60ebbcd4-a16e-428c-ad6a-96dbbe630694"
      },
      "execution_count": 5,
      "outputs": [
        {
          "output_type": "execute_result",
          "data": {
            "text/plain": [
              "(tensor([[1.8542],\n",
              "         [1.9611],\n",
              "         [2.2884],\n",
              "         [3.0481],\n",
              "         [1.7067],\n",
              "         [2.5290],\n",
              "         [1.7989]]),\n",
              " torch.Size([7, 1]))"
            ]
          },
          "metadata": {},
          "execution_count": 5
        }
      ]
    },
    {
      "cell_type": "code",
      "source": [
        "device = \"cuda\" if torch.cuda.is_available() else \"cpu\"\n",
        "device"
      ],
      "metadata": {
        "colab": {
          "base_uri": "https://localhost:8080/",
          "height": 35
        },
        "id": "gP2d-cjfDRdQ",
        "outputId": "b21238b5-10a7-4791-db13-f825ab926cc0"
      },
      "execution_count": 6,
      "outputs": [
        {
          "output_type": "execute_result",
          "data": {
            "text/plain": [
              "'cuda'"
            ],
            "application/vnd.google.colaboratory.intrinsic+json": {
              "type": "string"
            }
          },
          "metadata": {},
          "execution_count": 6
        }
      ]
    },
    {
      "cell_type": "code",
      "source": [
        "torch.manual_seed(1234)\n",
        "\n",
        "x = torch.rand(2,3).to(device)\n",
        "\n",
        "y = torch.rand(2,3).to(device)\n",
        "\n",
        "x,y"
      ],
      "metadata": {
        "colab": {
          "base_uri": "https://localhost:8080/"
        },
        "id": "ShiBq69s_SuF",
        "outputId": "3eb0d06d-10db-4f76-a0ed-7ea492c72e67"
      },
      "execution_count": 16,
      "outputs": [
        {
          "output_type": "execute_result",
          "data": {
            "text/plain": [
              "(tensor([[0.0290, 0.4019, 0.2598],\n",
              "         [0.3666, 0.0583, 0.7006]], device='cuda:0'),\n",
              " tensor([[0.0518, 0.4681, 0.6738],\n",
              "         [0.3315, 0.7837, 0.5631]], device='cuda:0'))"
            ]
          },
          "metadata": {},
          "execution_count": 16
        }
      ]
    },
    {
      "cell_type": "code",
      "source": [
        "z = torch.matmul(x, y.T)\n",
        "z,z.shape"
      ],
      "metadata": {
        "colab": {
          "base_uri": "https://localhost:8080/"
        },
        "id": "DzENUcQNEc-4",
        "outputId": "07931bf0-1597-4a4e-a8d3-60921cbae5ec"
      },
      "execution_count": 20,
      "outputs": [
        {
          "output_type": "execute_result",
          "data": {
            "text/plain": [
              "(tensor([[0.3647, 0.4709],\n",
              "         [0.5184, 0.5617]], device='cuda:0'),\n",
              " torch.Size([2, 2]))"
            ]
          },
          "metadata": {},
          "execution_count": 20
        }
      ]
    },
    {
      "cell_type": "code",
      "source": [
        "z_max = torch.max(z)\n",
        "\n",
        "z_min = torch.min(z)\n",
        "\n",
        "z_max, z_min"
      ],
      "metadata": {
        "colab": {
          "base_uri": "https://localhost:8080/"
        },
        "id": "Xnf283F_EwOH",
        "outputId": "baf59814-5acb-441f-b768-e318c3804720"
      },
      "execution_count": 21,
      "outputs": [
        {
          "output_type": "execute_result",
          "data": {
            "text/plain": [
              "(tensor(0.5617, device='cuda:0'), tensor(0.3647, device='cuda:0'))"
            ]
          },
          "metadata": {},
          "execution_count": 21
        }
      ]
    },
    {
      "cell_type": "code",
      "source": [
        "arg_max = torch.argmax(z)\n",
        "\n",
        "arg_min = torch.argmin(z)\n",
        "arg_max, arg_min"
      ],
      "metadata": {
        "colab": {
          "base_uri": "https://localhost:8080/"
        },
        "id": "psTmBk-0FESW",
        "outputId": "9371a8d4-9998-4c33-c796-db95cb9bb8a9"
      },
      "execution_count": 22,
      "outputs": [
        {
          "output_type": "execute_result",
          "data": {
            "text/plain": [
              "(tensor(3, device='cuda:0'), tensor(0, device='cuda:0'))"
            ]
          },
          "metadata": {},
          "execution_count": 22
        }
      ]
    },
    {
      "cell_type": "code",
      "source": [
        "torch.manual_seed(7)\n",
        "\n",
        "new = torch.rand(1,1,1,10)\n",
        "\n",
        "tensor_E = new.squeeze()\n",
        "\n",
        "print(new, new.shape)\n",
        "print(tensor_E, tensor_E.shape)"
      ],
      "metadata": {
        "colab": {
          "base_uri": "https://localhost:8080/"
        },
        "id": "pHY3IotMFVQG",
        "outputId": "702ee8e3-1332-4e4c-e231-3417b611b657"
      },
      "execution_count": 27,
      "outputs": [
        {
          "output_type": "stream",
          "name": "stdout",
          "text": [
            "tensor([[[[0.5349, 0.1988, 0.6592, 0.6569, 0.2328, 0.4251, 0.2071, 0.6297,\n",
            "           0.3653, 0.8513]]]]) torch.Size([1, 1, 1, 10])\n",
            "tensor([0.5349, 0.1988, 0.6592, 0.6569, 0.2328, 0.4251, 0.2071, 0.6297, 0.3653,\n",
            "        0.8513]) torch.Size([10])\n"
          ]
        }
      ]
    }
  ]
}